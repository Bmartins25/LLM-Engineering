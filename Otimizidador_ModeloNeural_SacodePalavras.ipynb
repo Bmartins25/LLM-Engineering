{
  "nbformat": 4,
  "nbformat_minor": 0,
  "metadata": {
    "colab": {
      "provenance": [],
      "authorship_tag": "ABX9TyNGSTAWOBPN2gZ7iGPlCLi7",
      "include_colab_link": true
    },
    "kernelspec": {
      "name": "python3",
      "display_name": "Python 3"
    },
    "language_info": {
      "name": "python"
    }
  },
  "cells": [
    {
      "cell_type": "markdown",
      "metadata": {
        "id": "view-in-github",
        "colab_type": "text"
      },
      "source": [
        "<a href=\"https://colab.research.google.com/github/Bmartins25/LLM-Engineering/blob/main/Otimizidador_ModeloNeural_SacodePalavras.ipynb\" target=\"_parent\"><img src=\"https://colab.research.google.com/assets/colab-badge.svg\" alt=\"Open In Colab\"/></a>"
      ]
    },
    {
      "cell_type": "code",
      "source": [
        "import torch\n",
        "import random\n",
        "from torch.utils.data import Dataset, DataLoader, random_split\n",
        "from collections import Counter\n",
        "import torch.nn as nn\n",
        "import torch.optim as optim\n",
        "from datasets import load_dataset\n",
        "import numpy as np\n",
        "import re\n",
        "\n"
      ],
      "metadata": {
        "id": "QLru4OVoajdr"
      },
      "execution_count": 6,
      "outputs": []
    },
    {
      "cell_type": "code",
      "source": [
        "# Carregar dataset\n",
        "dataset = load_dataset(\"imdb\")\n",
        "\n"
      ],
      "metadata": {
        "id": "8VxcvfFjamAl"
      },
      "execution_count": 7,
      "outputs": []
    },
    {
      "cell_type": "code",
      "source": [
        "# Melhorar o tokenizador\n",
        "def tokenize(text):\n",
        "    text = text.lower()\n",
        "    text = re.sub(r'[^a-z0-9\\s]', '', text)  # Remover pontuação\n",
        "    return text.split()\n",
        "\n"
      ],
      "metadata": {
        "id": "wwORaV1tao6i"
      },
      "execution_count": 8,
      "outputs": []
    },
    {
      "cell_type": "code",
      "source": [
        "# Construção do vocabulário\n",
        "def build_vocab(texts, max_size=20000):\n",
        "    counter = Counter()\n",
        "    for text in texts:\n",
        "        counter.update(tokenize(text))\n",
        "    return {word: idx for idx, (word, _) in enumerate(counter.most_common(max_size))}\n",
        "\n"
      ],
      "metadata": {
        "id": "Fa1mYlPuarQU"
      },
      "execution_count": 9,
      "outputs": []
    },
    {
      "cell_type": "code",
      "source": [
        "# Criar conjunto de treino e validação\n",
        "data = dataset[\"train\"]\n",
        "test_data = dataset[\"test\"]\n",
        "train_size = int(0.85 * len(data))  # Melhor divisão treino/validação\n",
        "val_size = len(data) - train_size\n",
        "train_data, val_data = random_split(data, [train_size, val_size])\n",
        "\n"
      ],
      "metadata": {
        "id": "oc8h-ITaatwo"
      },
      "execution_count": 10,
      "outputs": []
    },
    {
      "cell_type": "code",
      "source": [
        "# Definir dataset personalizado\n",
        "class IMDBDataset(Dataset):\n",
        "    def __init__(self, data, vocab):\n",
        "        self.data = data\n",
        "        self.vocab = vocab\n",
        "\n",
        "    def __len__(self):\n",
        "        return len(self.data)\n",
        "\n",
        "    def __getitem__(self, idx):\n",
        "        text = self.data[idx][\"text\"]\n",
        "        label = self.data[idx][\"label\"]\n",
        "        tokens = tokenize(text)\n",
        "        indices = [self.vocab.get(token, 0) for token in tokens]\n",
        "        return indices, label\n",
        "\n"
      ],
      "metadata": {
        "id": "uA6X0WXZaygl"
      },
      "execution_count": 11,
      "outputs": []
    },
    {
      "cell_type": "code",
      "source": [
        "# Função para converter batch em Bag of Words\n",
        "def collate_fn(batch):\n",
        "    texts, labels = zip(*batch)\n",
        "    vocab_size = len(dataset_vocab)\n",
        "    bow_vectors = torch.zeros(len(texts), vocab_size)\n",
        "    for i, text in enumerate(texts):\n",
        "        for idx in text:\n",
        "            if idx < vocab_size:\n",
        "                bow_vectors[i, idx] += 1  # Contagem de palavras\n",
        "    labels = torch.tensor(labels, dtype=torch.float32)\n",
        "    return bow_vectors, labels\n",
        "\n"
      ],
      "metadata": {
        "id": "5IZX37aia1gV"
      },
      "execution_count": 12,
      "outputs": []
    },
    {
      "cell_type": "code",
      "source": [
        "# Criar vocabulário\n",
        "dataset_vocab = build_vocab([x[\"text\"] for x in train_data])\n",
        "\n"
      ],
      "metadata": {
        "id": "3pXgd-Z5a39e"
      },
      "execution_count": 13,
      "outputs": []
    },
    {
      "cell_type": "code",
      "source": [
        "# Criar loaders corrigidos\n",
        "train_loader = DataLoader(IMDBDataset(train_data, dataset_vocab), batch_size=64, shuffle=True, collate_fn=collate_fn)\n",
        "val_loader = DataLoader(IMDBDataset(val_data, dataset_vocab), batch_size=64, collate_fn=collate_fn)\n",
        "test_loader = DataLoader(IMDBDataset(test_data, dataset_vocab), batch_size=64, collate_fn=collate_fn)\n",
        "\n"
      ],
      "metadata": {
        "id": "OLF26eA8a5_M"
      },
      "execution_count": 14,
      "outputs": []
    },
    {
      "cell_type": "code",
      "source": [
        "# Modelo Neural\n",
        "class SentimentModel(nn.Module):\n",
        "    def __init__(self, vocab_size):\n",
        "        super(SentimentModel, self).__init__()\n",
        "        self.fc1 = nn.Linear(vocab_size, 128)\n",
        "        self.relu = nn.ReLU()\n",
        "        self.fc2 = nn.Linear(128, 1)\n",
        "        self.sigmoid = nn.Sigmoid()\n",
        "\n",
        "    def forward(self, x):\n",
        "        x = self.fc1(x)\n",
        "        x = self.relu(x)\n",
        "        x = self.fc2(x)\n",
        "        return self.sigmoid(x)\n",
        "\n"
      ],
      "metadata": {
        "id": "F3S8KIYha7lr"
      },
      "execution_count": 15,
      "outputs": []
    },
    {
      "cell_type": "code",
      "source": [
        "# Instanciar modelo\n",
        "model = SentimentModel(len(dataset_vocab))\n",
        "criterion = nn.BCELoss()\n",
        "optimizer = optim.SGD(model.parameters(), lr=0.05, momentum=0.9)  # Ajuste do learning rate e momentum\n",
        "\n"
      ],
      "metadata": {
        "id": "IlZWxrePa9vf"
      },
      "execution_count": 16,
      "outputs": []
    },
    {
      "cell_type": "code",
      "source": [
        "# Loop de treinamento\n",
        "num_epochs = 5\n",
        "for epoch in range(num_epochs):\n",
        "    model.train()\n",
        "    train_loss = 0\n",
        "\n",
        "    for inputs, labels in train_loader:\n",
        "        optimizer.zero_grad()\n",
        "        outputs = model(inputs)\n",
        "        loss = criterion(outputs.squeeze(), labels)\n",
        "        loss.backward()\n",
        "        optimizer.step()\n",
        "        train_loss += loss.item()\n",
        "\n",
        "    # Validação\n",
        "    model.eval()\n",
        "    val_loss = 0\n",
        "    correct = 0\n",
        "    total = 0\n",
        "\n",
        "    with torch.no_grad():\n",
        "        for inputs, labels in val_loader:\n",
        "            outputs = model(inputs).squeeze()\n",
        "            loss = criterion(outputs, labels)\n",
        "            val_loss += loss.item()\n",
        "            predicted = (outputs > 0.5).float()\n",
        "            correct += (predicted == labels).sum().item()\n",
        "            total += labels.size(0)\n",
        "\n",
        "    accuracy = correct / total * 100\n",
        "    print(f\"Epoch {epoch+1}/{num_epochs}, Train Loss: {train_loss/len(train_loader):.4f}, Val Loss: {val_loss/len(val_loader):.4f}, Accuracy: {accuracy:.2f}%\")\n"
      ],
      "metadata": {
        "colab": {
          "base_uri": "https://localhost:8080/"
        },
        "id": "ppwIBc_kdUuv",
        "outputId": "9cbcec8b-da1d-4ec7-94cd-24af6f1c55db"
      },
      "execution_count": 20,
      "outputs": [
        {
          "output_type": "stream",
          "name": "stdout",
          "text": [
            "Epoch 1/5, Train Loss: 0.6566, Val Loss: 0.5811, Accuracy: 69.63%\n",
            "Epoch 2/5, Train Loss: 0.6528, Val Loss: 0.6919, Accuracy: 51.79%\n",
            "Epoch 3/5, Train Loss: 0.6856, Val Loss: 0.6614, Accuracy: 60.64%\n",
            "Epoch 4/5, Train Loss: 0.6660, Val Loss: 0.7264, Accuracy: 66.99%\n",
            "Epoch 5/5, Train Loss: 0.5852, Val Loss: 0.5140, Accuracy: 79.92%\n"
          ]
        }
      ]
    }
  ]
}