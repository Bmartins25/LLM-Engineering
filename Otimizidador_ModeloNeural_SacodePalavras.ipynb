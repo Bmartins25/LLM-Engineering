{
  "nbformat": 4,
  "nbformat_minor": 0,
  "metadata": {
    "colab": {
      "provenance": [],
      "authorship_tag": "ABX9TyNdPRp34ZVXN8mIb7hTjGG6",
      "include_colab_link": true
    },
    "kernelspec": {
      "name": "python3",
      "display_name": "Python 3"
    },
    "language_info": {
      "name": "python"
    }
  },
  "cells": [
    {
      "cell_type": "markdown",
      "metadata": {
        "id": "view-in-github",
        "colab_type": "text"
      },
      "source": [
        "<a href=\"https://colab.research.google.com/github/Bmartins25/LLM-Engineering/blob/main/Otimizidador_ModeloNeural_SacodePalavras.ipynb\" target=\"_parent\"><img src=\"https://colab.research.google.com/assets/colab-badge.svg\" alt=\"Open In Colab\"/></a>"
      ]
    },
    {
      "cell_type": "code",
      "source": [
        "import torch\n",
        "import random\n",
        "from torch.utils.data import Dataset, DataLoader, random_split\n",
        "from collections import Counter\n",
        "import torch.nn as nn\n",
        "import torch.optim as optim\n",
        "from datasets import load_dataset\n",
        "import numpy as np\n",
        "import re\n",
        "\n"
      ],
      "metadata": {
        "id": "8_I0GxDPua0C"
      },
      "execution_count": 41,
      "outputs": []
    },
    {
      "cell_type": "code",
      "source": [
        "# Carregar dataset\n",
        "dataset = load_dataset(\"imdb\")\n",
        "\n"
      ],
      "metadata": {
        "id": "Adm9rIbXuuEZ"
      },
      "execution_count": 42,
      "outputs": []
    },
    {
      "cell_type": "code",
      "source": [
        "# Melhorar o tokenizador\n",
        "def tokenize(text):\n",
        "    text = text.lower()\n",
        "    text = re.sub(r'[^a-z0-9\\s]', '', text)  # Remover pontuação\n",
        "    text = re.sub(r'\\s+', ' ', text).strip()  # Remover espaços extras\n",
        "    return text.split()\n",
        "\n"
      ],
      "metadata": {
        "id": "DSYHirvY6mXh"
      },
      "execution_count": 43,
      "outputs": []
    },
    {
      "cell_type": "code",
      "source": [
        "# Construção do vocabulário\n",
        "def build_vocab(texts, max_size=20000):  # Ajuste para 20000 palavras conforme especificação\n",
        "    counter = Counter()\n",
        "    for text in texts:\n",
        "        counter.update(tokenize(text))\n",
        "    return {word: idx for idx, (word, _) in enumerate(counter.most_common(max_size))}\n",
        "\n"
      ],
      "metadata": {
        "id": "PRzOr-9w6ovR"
      },
      "execution_count": 44,
      "outputs": []
    },
    {
      "cell_type": "code",
      "source": [
        "# Criar conjunto de treino e validação\n",
        "data = dataset[\"train\"]\n",
        "test_data = dataset[\"test\"]\n",
        "train_size = int(0.85 * len(data))  # Ajuste para 85% treino e 15% validação\n",
        "val_size = len(data) - train_size\n",
        "train_data, val_data = random_split(data, [train_size, val_size])\n",
        "\n"
      ],
      "metadata": {
        "id": "p17tYROY6r10"
      },
      "execution_count": 45,
      "outputs": []
    },
    {
      "cell_type": "code",
      "source": [
        "# Definir dataset personalizado\n",
        "class IMDBDataset(Dataset):\n",
        "    def __init__(self, data, vocab):\n",
        "        self.data = data\n",
        "        self.vocab = vocab\n",
        "\n",
        "    def __len__(self):\n",
        "        return len(self.data)\n",
        "\n",
        "    def __getitem__(self, idx):\n",
        "        text = self.data[idx][\"text\"]\n",
        "        label = self.data[idx][\"label\"]\n",
        "        tokens = tokenize(text)\n",
        "        indices = [self.vocab.get(token, 0) for token in tokens]\n",
        "        return indices, label\n",
        "\n"
      ],
      "metadata": {
        "id": "BptbgJRc6tqJ"
      },
      "execution_count": 46,
      "outputs": []
    },
    {
      "cell_type": "code",
      "source": [
        "# Função para converter batch em Bag of Words\n",
        "def collate_fn(batch):\n",
        "    texts, labels = zip(*batch)\n",
        "    vocab_size = len(dataset_vocab)\n",
        "    bow_vectors = torch.zeros(len(texts), vocab_size)\n",
        "    for i, text in enumerate(texts):\n",
        "        for idx in text:\n",
        "            if idx < vocab_size:\n",
        "                bow_vectors[i, idx] += 1  # Contagem de palavras\n",
        "    labels = torch.tensor(labels, dtype=torch.float32)\n",
        "    return bow_vectors, labels\n",
        "\n"
      ],
      "metadata": {
        "id": "RzkvVUsp6v3k"
      },
      "execution_count": 47,
      "outputs": []
    },
    {
      "cell_type": "code",
      "source": [
        "# Criar vocabulário\n",
        "dataset_vocab = build_vocab([x[\"text\"] for x in train_data])\n",
        "\n"
      ],
      "metadata": {
        "id": "0SdPCAiv6xr5"
      },
      "execution_count": 48,
      "outputs": []
    },
    {
      "cell_type": "code",
      "source": [
        "# Criar loaders corrigidos\n",
        "train_loader = DataLoader(IMDBDataset(train_data, dataset_vocab), batch_size=64, shuffle=True, collate_fn=collate_fn)\n",
        "val_loader = DataLoader(IMDBDataset(val_data, dataset_vocab), batch_size=64, collate_fn=collate_fn)\n",
        "test_loader = DataLoader(IMDBDataset(test_data, dataset_vocab), batch_size=64, collate_fn=collate_fn)\n",
        "\n"
      ],
      "metadata": {
        "id": "c2qu4Ty46zYo"
      },
      "execution_count": 49,
      "outputs": []
    },
    {
      "cell_type": "code",
      "source": [
        "# Modelo Neural\n",
        "class SentimentModel(nn.Module):\n",
        "    def __init__(self, vocab_size):\n",
        "        super(SentimentModel, self).__init__()\n",
        "        self.fc1 = nn.Linear(vocab_size, 128)\n",
        "        self.relu = nn.ReLU()\n",
        "        self.fc2 = nn.Linear(128, 1)\n",
        "        self.sigmoid = nn.Sigmoid()\n",
        "\n",
        "    def forward(self, x):\n",
        "        x = self.fc1(x)\n",
        "        x = self.relu(x)\n",
        "        x = self.fc2(x)\n",
        "        return self.sigmoid(x)\n",
        "\n"
      ],
      "metadata": {
        "id": "mo0u_4QA61Jh"
      },
      "execution_count": 50,
      "outputs": []
    },
    {
      "cell_type": "code",
      "source": [
        "# Instanciar modelo\n",
        "model = SentimentModel(len(dataset_vocab))\n",
        "criterion = nn.BCELoss()\n",
        "optimizer = optim.SGD(model.parameters(), lr=0.1)  # Ajuste do learning rate permitido\n",
        "\n"
      ],
      "metadata": {
        "id": "ivHj2RgI63C5"
      },
      "execution_count": 51,
      "outputs": []
    },
    {
      "cell_type": "code",
      "source": [
        "# Loop de treinamento\n",
        "num_epochs = 5\n",
        "for epoch in range(num_epochs):\n",
        "    model.train()\n",
        "    train_loss = 0\n",
        "    correct_train = 0\n",
        "    total_train = 0\n",
        "\n",
        "    for inputs, labels in train_loader:\n",
        "        optimizer.zero_grad()\n",
        "        outputs = model(inputs)\n",
        "        loss = criterion(outputs.squeeze(), labels)\n",
        "        loss.backward()\n",
        "        optimizer.step()\n",
        "        train_loss += loss.item()\n",
        "        predicted = (outputs > 0.5).float()\n",
        "        correct_train += (predicted == labels).sum().item()\n",
        "        total_train += labels.size(0)\n",
        "\n",
        "    train_accuracy = correct_train / total_train * 100\n",
        "\n",
        "    # Validação\n",
        "    model.eval()\n",
        "    val_loss = 0\n",
        "    correct = 0\n",
        "    total = 0\n",
        "\n",
        "    with torch.no_grad():\n",
        "        for inputs, labels in val_loader:\n",
        "            outputs = model(inputs).squeeze()\n",
        "            loss = criterion(outputs, labels)\n",
        "            val_loss += loss.item()\n",
        "            predicted = (outputs > 0.5).float()\n",
        "            correct += (predicted == labels).sum().item()\n",
        "            total += labels.size(0)\n",
        "\n",
        "    val_accuracy = correct / total * 100\n",
        "    print(f\"Epoch {epoch+1}/{num_epochs}, Train Loss: {train_loss/len(train_loader):.4f}, Train Acc: {train_accuracy:.2f}%, Val Loss: {val_loss/len(val_loader):.4f}, Val Acc: {val_accuracy:.2f}%\")\n",
        "\n"
      ],
      "metadata": {
        "colab": {
          "base_uri": "https://localhost:8080/"
        },
        "id": "r_eTdFJZ65Fg",
        "outputId": "30d93a70-39bb-4298-a1d1-086d21e5d4e4"
      },
      "execution_count": 52,
      "outputs": [
        {
          "output_type": "stream",
          "name": "stdout",
          "text": [
            "Epoch 1/5, Train Loss: 0.6552, Train Acc: 3211.40%, Val Loss: 0.5767, Val Acc: 70.19%\n",
            "Epoch 2/5, Train Loss: 0.5884, Train Acc: 3215.26%, Val Loss: 0.6153, Val Acc: 66.16%\n",
            "Epoch 3/5, Train Loss: 0.5608, Train Acc: 3220.56%, Val Loss: 0.8329, Val Acc: 61.76%\n",
            "Epoch 4/5, Train Loss: 0.5221, Train Acc: 3242.82%, Val Loss: 0.7355, Val Acc: 64.69%\n",
            "Epoch 5/5, Train Loss: 0.4878, Train Acc: 3235.86%, Val Loss: 2.3445, Val Acc: 53.20%\n"
          ]
        }
      ]
    },
    {
      "cell_type": "code",
      "source": [
        "# Avaliação final do modelo\n",
        "model.eval()\n",
        "correct = 0\n",
        "total = 0\n",
        "with torch.no_grad():\n",
        "    for inputs, labels in test_loader:\n",
        "        outputs = model(inputs).squeeze()\n",
        "        predicted = (outputs > 0.5).float()\n",
        "        correct += (predicted == labels).sum().item()\n",
        "        total += labels.size(0)\n",
        "final_accuracy = correct / total * 100\n",
        "print(f\"Final Test Accuracy: {final_accuracy:.2f}%\")\n"
      ],
      "metadata": {
        "colab": {
          "base_uri": "https://localhost:8080/"
        },
        "id": "k993Hz9k66fb",
        "outputId": "1c046cc4-e9c3-4a09-d65f-8181f6127ab9"
      },
      "execution_count": 53,
      "outputs": [
        {
          "output_type": "stream",
          "name": "stdout",
          "text": [
            "Final Test Accuracy: 52.42%\n"
          ]
        }
      ]
    }
  ]
}