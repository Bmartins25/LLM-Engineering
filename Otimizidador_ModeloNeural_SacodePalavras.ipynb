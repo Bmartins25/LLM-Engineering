{
  "nbformat": 4,
  "nbformat_minor": 0,
  "metadata": {
    "colab": {
      "provenance": [],
      "authorship_tag": "ABX9TyPi3TQWCo9X2QzF289MFPdM",
      "include_colab_link": true
    },
    "kernelspec": {
      "name": "python3",
      "display_name": "Python 3"
    },
    "language_info": {
      "name": "python"
    }
  },
  "cells": [
    {
      "cell_type": "markdown",
      "metadata": {
        "id": "view-in-github",
        "colab_type": "text"
      },
      "source": [
        "<a href=\"https://colab.research.google.com/github/Bmartins25/LLM-Engineering/blob/main/Otimizidador_ModeloNeural_SacodePalavras.ipynb\" target=\"_parent\"><img src=\"https://colab.research.google.com/assets/colab-badge.svg\" alt=\"Open In Colab\"/></a>"
      ]
    },
    {
      "cell_type": "code",
      "source": [
        "pip install datasets"
      ],
      "metadata": {
        "id": "tCj9LGjtbB6v"
      },
      "execution_count": null,
      "outputs": []
    },
    {
      "cell_type": "code",
      "source": [
        "import torch\n",
        "import random\n",
        "from torch.utils.data import Dataset, DataLoader, random_split\n",
        "from collections import Counter\n",
        "import torch.nn as nn\n",
        "import torch.optim as optim\n",
        "from datasets import load_dataset\n",
        "import numpy as np\n",
        "import re\n",
        "\n"
      ],
      "metadata": {
        "id": "QLru4OVoajdr"
      },
      "execution_count": null,
      "outputs": []
    },
    {
      "cell_type": "code",
      "source": [
        "# Carregar dataset\n",
        "dataset = load_dataset(\"imdb\")\n",
        "\n"
      ],
      "metadata": {
        "id": "1h-YVBU8bk-u"
      },
      "execution_count": null,
      "outputs": []
    },
    {
      "cell_type": "code",
      "source": [
        "# Melhorar o tokenizador\n",
        "def tokenize(text):\n",
        "    return text.lower().split()\n",
        "\n"
      ],
      "metadata": {
        "id": "fR4wgRw-bnQH"
      },
      "execution_count": null,
      "outputs": []
    },
    {
      "cell_type": "code",
      "source": [
        "# Construção do vocabulário\n",
        "def build_vocab(texts, max_size=20000):\n",
        "    counter = Counter()\n",
        "    for text in texts:\n",
        "        counter.update(tokenize(text))\n",
        "    return {word: idx+1 for idx, (word, _) in enumerate(counter.most_common(max_size))}\n",
        "\n"
      ],
      "metadata": {
        "id": "AbXlBjt8bpgR"
      },
      "execution_count": null,
      "outputs": []
    },
    {
      "cell_type": "code",
      "source": [
        "# Criar conjunto de treino e validação\n",
        "data = dataset[\"train\"]\n",
        "test_data = dataset[\"test\"]\n",
        "train_size = int(0.8 * len(data))\n",
        "val_size = len(data) - train_size\n",
        "train_data, val_data = random_split(data, [train_size, val_size])\n",
        "\n",
        "\n"
      ],
      "metadata": {
        "id": "6pyieWQNbr4I"
      },
      "execution_count": null,
      "outputs": []
    },
    {
      "cell_type": "code",
      "source": [
        "# Definir dataset personalizado\n",
        "class IMDBDataset(Dataset):\n",
        "    def __init__(self, data, vocab):\n",
        "        self.data = data\n",
        "        self.vocab = vocab\n",
        "\n",
        "    def __len__(self):\n",
        "        return len(self.data)\n",
        "\n",
        "    def __getitem__(self, idx):\n",
        "        text = self.data[idx][\"text\"]\n",
        "        label = self.data[idx][\"label\"]\n",
        "        tokens = tokenize(text)\n",
        "        indices = [self.vocab.get(token, 0) for token in tokens]\n",
        "        return torch.tensor(indices, dtype=torch.long), torch.tensor(label, dtype=torch.float32)\n",
        "\n"
      ],
      "metadata": {
        "id": "l0OPxMRlbt6a"
      },
      "execution_count": null,
      "outputs": []
    },
    {
      "cell_type": "code",
      "source": [
        "# Criar vocabulário\n",
        "dataset_vocab = build_vocab([x[\"text\"] for x in train_data])\n",
        "\n"
      ],
      "metadata": {
        "id": "4THQDN3Vbv1S"
      },
      "execution_count": null,
      "outputs": []
    },
    {
      "cell_type": "code",
      "source": [
        "# Criar loaders\n",
        "train_loader = DataLoader(IMDBDataset(train_data, dataset_vocab), batch_size=32, shuffle=True)\n",
        "val_loader = DataLoader(IMDBDataset(val_data, dataset_vocab), batch_size=32)\n",
        "test_loader = DataLoader(IMDBDataset(test_data, dataset_vocab), batch_size=32)\n",
        "\n"
      ],
      "metadata": {
        "id": "tYFXoLC5bxhY"
      },
      "execution_count": null,
      "outputs": []
    },
    {
      "cell_type": "code",
      "source": [
        "# Modelo Neural\n",
        "class SentimentModel(nn.Module):\n",
        "    def __init__(self, vocab_size):\n",
        "        super(SentimentModel, self).__init__()\n",
        "        self.fc1 = nn.Linear(vocab_size, 128)\n",
        "        self.fc2 = nn.Linear(128, 1)\n",
        "        self.sigmoid = nn.Sigmoid()\n",
        "\n",
        "    def forward(self, x):\n",
        "        x = self.fc1(x.float())\n",
        "        x = self.fc2(x)\n",
        "        return self.sigmoid(x)\n",
        "\n"
      ],
      "metadata": {
        "id": "SkREBJoTb0wa"
      },
      "execution_count": null,
      "outputs": []
    },
    {
      "cell_type": "code",
      "source": [
        "# Instanciar modelo\n",
        "model = SentimentModel(len(dataset_vocab))\n",
        "criterion = nn.BCELoss()\n",
        "optimizer = optim.SGD(model.parameters(), lr=0.1)  # Ajuste do learning rate\n",
        "\n"
      ],
      "metadata": {
        "id": "HbQI9vEGb2oV"
      },
      "execution_count": null,
      "outputs": []
    },
    {
      "cell_type": "code",
      "source": [
        "# Loop de treinamento\n",
        "num_epochs = 5\n",
        "for epoch in range(num_epochs):\n",
        "    model.train()\n",
        "    train_loss = 0\n",
        "    for inputs, labels in train_loader:\n",
        "        optimizer.zero_grad()\n",
        "        outputs = model(inputs)\n",
        "        loss = criterion(outputs.squeeze(), labels)\n",
        "        loss.backward()\n",
        "        optimizer.step()\n",
        "        train_loss += loss.item()\n",
        "\n",
        "    # Validação\n",
        "    model.eval()\n",
        "    val_loss = 0\n",
        "    with torch.no_grad():\n",
        "        for inputs, labels in val_loader:\n",
        "            outputs = model(inputs)\n",
        "            loss = criterion(outputs.squeeze(), labels)\n",
        "            val_loss += loss.item()\n",
        "\n",
        "    print(f\"Epoch {epoch+1}/{num_epochs}, Train Loss: {train_loss/len(train_loader):.4f}, Val Loss: {val_loss/len(val_loader):.4f}\")\n",
        "\n"
      ],
      "metadata": {
        "id": "GNr1pIISb4c3"
      },
      "execution_count": null,
      "outputs": []
    },
    {
      "cell_type": "code",
      "source": [
        "# Função para calcular a acurácia do modelo\n",
        "def calculate_accuracy(model, dataloader, device):\n",
        "    model.eval()\n",
        "    correct = 0\n",
        "    total = 0\n",
        "    with torch.no_grad():\n",
        "        for batch in dataloader:\n",
        "            inputs, labels = batch['text'], batch['label']\n",
        "            inputs = torch.tensor([vocab[token] for token in tokenize(inputs) if token in vocab], dtype=torch.long).to(device)\n",
        "            labels = torch.tensor(labels, dtype=torch.long).to(device)\n",
        "            outputs = model(inputs)\n",
        "            _, predicted = torch.max(outputs, 1)\n",
        "            correct += (predicted == labels).sum().item()\n",
        "            total += labels.size(0)\n",
        "    return correct / total\n",
        "\n"
      ],
      "metadata": {
        "id": "XcKQGd9Eb6NK"
      },
      "execution_count": null,
      "outputs": []
    },
    {
      "cell_type": "code",
      "source": [
        "# Calcular a acurácia final\n",
        "accuracy = calculate_accuracy(model, test_dataloader, device)\n",
        "\n"
      ],
      "metadata": {
        "id": "wci7dhtZb7aV"
      },
      "execution_count": null,
      "outputs": []
    },
    {
      "cell_type": "code",
      "source": [
        "# Imprimir apenas a acurácia final separada das épocas\n",
        "print(f\"Final Accuracy: {accuracy * 100:.2f}%\")\n",
        "\n"
      ],
      "metadata": {
        "id": "Ua3F6Bdmb8Zb"
      },
      "execution_count": null,
      "outputs": []
    },
    {
      "cell_type": "code",
      "source": [
        "# Garantir que a acurácia ultrapasse 65%\n",
        "if accuracy < 0.65:\n",
        "    raise ValueError(\"Modelo não atingiu a acurácia mínima de 65%. Ajuste os hiperparâmetros e tente novamente.\")"
      ],
      "metadata": {
        "id": "r_qDmeASb9gq"
      },
      "execution_count": null,
      "outputs": []
    }
  ]
}